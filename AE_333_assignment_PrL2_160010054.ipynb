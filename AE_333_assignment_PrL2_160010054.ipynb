{
  "nbformat": 4,
  "nbformat_minor": 0,
  "metadata": {
    "colab": {
      "provenance": []
    },
    "kernelspec": {
      "name": "python3",
      "display_name": "Python 3"
    },
    "language_info": {
      "name": "python"
    }
  },
  "cells": [
    {
      "cell_type": "markdown",
      "source": [
        "#Assignment PrL2\n",
        "### AE 330 \n",
        "### Name : V S Harikrishna\n",
        "### Roll number : 160010054\n",
        "\n"
      ],
      "metadata": {
        "id": "74NThUYH8Awq"
      }
    },
    {
      "cell_type": "code",
      "execution_count": 2,
      "metadata": {
        "id": "mrWOBIx2O5nX"
      },
      "outputs": [],
      "source": [
        "from __future__ import print_function\n",
        "import time, copy\n",
        "import numpy as np\n",
        "from math import pi\n",
        "from matplotlib import pyplot as plt\n",
        "import pandas as pd"
      ]
    },
    {
      "cell_type": "code",
      "source": [
        "class AirfoilSpec(object):\n",
        "    \"\"\" Template class for specifying airfoil\n",
        "\n",
        "        There are methods that give the z-coordinates of the camber & thickness\n",
        "        distributions, upper & lower surface locations, and derivatives of all\n",
        "        of these, all taking x-coordinates along the chord as input. All these\n",
        "        methods work equally well with scalar or 1D numpy array inputs, and\n",
        "        their outputs are like their inputs. Also, all x- and z-coordinates are\n",
        "        normalized by the chord length (LE = 0; TE = 1).\n",
        "    \"\"\"\n",
        "\n",
        "    def __init__(self,**kwarg):\n",
        "        if 'name' in kwarg:\n",
        "            self.name = kwarg['name']\n",
        "\n",
        "    # x-derivative of any relevant x-dependent function at a given x-coordinate\n",
        "    # along chord\n",
        "    #\n",
        "    # INPUTS:\n",
        "    # x_by_c : x-coordinate along chord\n",
        "    # z      : Handle to function giving variation with x_by_c\n",
        "    # deltaX : Size of x-step for finite difference approximations\n",
        "    #\n",
        "    # OUTPUTS:\n",
        "    # dz : x-derivative of given z-function\n",
        "    def dz_dx(self,x_by_c,z,deltaX=0.0001):\n",
        "        # We start by converting the given x_by_c to a 1D (singleton) numpy\n",
        "        # array if it is a scalar, since all the subsequent steps are vectorized\n",
        "        singleton = False\n",
        "        if not isinstance(x_by_c,np.ndarray):\n",
        "            singleton = True\n",
        "            x_copy = np.array([x_by_c]) #Create a new singleton array\n",
        "        else:\n",
        "            x_copy = x_by_c\n",
        "        # Find indices of x_copy that are too far to the left (too close to 0) \n",
        "        # to pursue 2nd-order accurate central differences\n",
        "        iL = x_copy < deltaX\n",
        "        # Find indices of x_copy that are well inside the range [0,1] so as to\n",
        "        # allow pursuit of 2nd-order accurate central differences\n",
        "        iM = np.logical_and(x_copy >= deltaX,x_copy <= 1-deltaX)\n",
        "        # Find indices of x_copy that are too far to the right (too close to 1)\n",
        "        # to pursue 2nd-order accurate central differences\n",
        "        iR = x_copy > 1-deltaX\n",
        "        # Pre-allocate output array like input array\n",
        "        dz = np.zeros_like(x_copy)\n",
        "        # Evaluate 1st-order accurate forward differences at leftward points\n",
        "        dz[iL] = (z(x_copy[iL]+deltaX) -z(x_copy[iL]))/deltaX\n",
        "        # Evaluate 2nd-order accurate central difference at inner points\n",
        "        dz[iM] = (z(x_copy[iM]+deltaX) - z(x_copy[iM]-deltaX))/(2*deltaX)\n",
        "        # Evaluate 1st-order accurate backward differences at rightward points\n",
        "        dz[iR] = (z(x_copy[iR]) - z(x_copy[iR]-deltaX))/deltaX        \n",
        "        if singleton:\n",
        "            dz = dz[0] #Output must be a scalar since input was scalar\n",
        "        return dz\n",
        "    \n",
        "    # Camber distribution of airfoil at a given x-coordinate along chord; this\n",
        "    # must be coded in the child class\n",
        "    # def zc_by_c(self,x_by_c):\n",
        "    #     pass\n",
        "\n",
        "    # x-derivative of camber distribution at a given x-coordinate along chord\n",
        "    def dzc_dx(self,x_by_c,deltaX=0.0001):\n",
        "        return self.dz_dx(x_by_c,self.zc_by_c,deltaX=deltaX)\n",
        "    \n",
        "    # Semi-thickness distribution at a given x-coordinate along chord; this\n",
        "    # must be coded in the child class\n",
        "    # def zt_by_c(self,x_by_c):\n",
        "    #     pass\n",
        "    \n",
        "    # x-derivative of semi-thickness distribution at a given x-coordinate along\n",
        "    # chord\n",
        "    def dzt_dx(self,x_by_c,deltaX=0.0001):\n",
        "        return self.dz_dx(x_by_c,self.zt_by_c,deltaX=deltaX)\n",
        "\n",
        "    # z-coordinate of upper surface at a given x-coordinate along chord\n",
        "    def zu_by_c(self,x_by_c):\n",
        "        return self.zc_by_c(x_by_c) + self.zt_by_c(x_by_c)\n",
        "\n",
        "    # z-coordinate of lower surface at a given x-coordinate along chord\n",
        "    def zl_by_c(self,x_by_c):\n",
        "        return self.zc_by_c(x_by_c) - self.zt_by_c(x_by_c)\n",
        "\n",
        "    # Plot the airfoil geometry, in the supplied axes if given\n",
        "    def plot(self,axes=None):\n",
        "        # Create a single plot for both upper and lower surfaces, starting from\n",
        "        # the LE, going to the TE along the upper surface, and then returning\n",
        "        # to the LE along the lower surface\n",
        "        x_by_c = np.linspace(0,1,100)    #x/c for upper surface\n",
        "        # x/c for lower surface; don't duplicate TE; duplicate LE to close loop\n",
        "        x_by_c_flip = x_by_c[-2::-1]\n",
        "        # Final array of x-coordinates to plot\n",
        "        X = np.concatenate((x_by_c,x_by_c_flip))\n",
        "        # Final array of z-coordinates to plot\n",
        "        Z = np.concatenate((self.zu_by_c(x_by_c),self.zl_by_c(x_by_c_flip)))\n",
        "        if axes is None:\n",
        "            plt.figure()\n",
        "            axes = plt.gca()\n",
        "        axes.plot(X,Z)\n",
        "        axes.set_xlabel('x/c');  axes.set_ylabel('z/c')\n",
        "        axes.set_aspect('equal', 'box')\n",
        "        if hasattr(self,'name'):\n",
        "            axes.set_title(self.name)\n",
        "        else:\n",
        "            axes.set_title('Airfoil geometry')"
      ],
      "metadata": {
        "id": "N-9uKJbEqYEv"
      },
      "execution_count": 3,
      "outputs": []
    },
    {
      "cell_type": "code",
      "source": [
        "class NACA4digit(AirfoilSpec):\n",
        "    \"\"\" Implementation of class derived from AirfoilSpec for defining the\n",
        "        geometry of a NACA 4-digit airfoil\n",
        "\n",
        "        airfoil = NACA4digit(digits='2412'), or\n",
        "        airfoil = NACA4digit(mCmbr=0.02,pCmbr=0.4,mThk=0.12)\n",
        "    \"\"\"\n",
        "    def __init__(self,**kwarg):\n",
        "        if 'digits' in kwarg:\n",
        "            self.digits = kwarg['digits']\n",
        "            del kwarg['digits']\n",
        "            self.mThk = float(self.digits[-2:])/100\n",
        "            self.mCmbr = float(self.digits[0])/100\n",
        "            self.pCmbr = float(self.digits[1])/10\n",
        "        else:\n",
        "            self.mThk = kwarg['mThk'];   del kwarg['mThk']\n",
        "            self.mCmbr = kwarg['mCmbr']; del kwarg['mCmbr']\n",
        "            self.pCmbr = kwarg['pCmbr']; del kwarg['pCmbr']\n",
        "            self.digits='%02d%d%d'%(self.mCmbr*100,self.pCmbr*10,self.mThk*100)\n",
        "        self.name = 'NACA '+self.digits\n",
        "        super().__init__(**kwarg)\n",
        "\n",
        "    # Camber function of NACA 4-digit airfoil series with maximum fractional\n",
        "    # camber mCmbr and its fractional position pCmbr available as class\n",
        "    # attributes already\n",
        "    def zc_by_c(self,x_by_c):\n",
        "        singleton = False\n",
        "        if not isinstance(x_by_c,np.ndarray):\n",
        "            singleton = True\n",
        "            x_copy = np.array([x_by_c]) #Create a new singleton array\n",
        "        else:\n",
        "            x_copy = x_by_c\n",
        "        cmbr = np.zeros_like(x_copy)\n",
        "        iL = x_copy <= self.pCmbr\n",
        "        iT = x_copy > self.pCmbr\n",
        "        cmbr[iL] = self.mCmbr/self.pCmbr**2*(2*self.pCmbr*x_copy[iL] \\\n",
        "            -np.square(x_copy[iL]))\n",
        "        cmbr[iT] = self.mCmbr/(1-self.pCmbr)**2 \\\n",
        "            *(1-2*self.pCmbr+2*self.pCmbr*x_copy[iT]-np.square(x_copy[iT]))\n",
        "        if singleton:\n",
        "            cmbr = cmbr[0] #Output must be a scalar since input was scalar\n",
        "        return cmbr\n",
        "\n",
        "    # Semi-thickness function of NACA 4-digit airfoil series with maximum \n",
        "    # fractional thickness mThk available as a class attribute already\n",
        "    def zt_by_c(self,x_by_c):\n",
        "        if np.any(x_by_c < 0) or np.any(x_by_c > 1):\n",
        "            raise Exception('Argument cannot be outside [0, 1]')\n",
        "        return 5*self.mThk*(0.2969*np.sqrt(x_by_c) - 0.126*x_by_c \\\n",
        "            - 0.3516*np.square(x_by_c) + 0.2843*np.power(x_by_c,3) \\\n",
        "            - 0.1036*np.power(x_by_c,4))"
      ],
      "metadata": {
        "id": "fsdKinV8qdNE"
      },
      "execution_count": 4,
      "outputs": []
    },
    {
      "cell_type": "code",
      "source": [
        "def AirfoilPtsGnrl(datfile):\n",
        "    \"\"\" Extract data of airfoil coordinates from file specified in the Lednicer\n",
        "        format:\n",
        "            upper surface points leading edge to trailing edge, followed by\n",
        "            lower surface points leading edge to trailing edge.\n",
        "        Code is adapted from https://pypi.org/project/importAirfoil/\n",
        "        \n",
        "        INPUTS:\n",
        "        datfile : Name of file where airfoil coordinates are to be found\n",
        "\n",
        "        OUTPUTS:\n",
        "        xu : 1D array of x-coordinates of upper surface\n",
        "        zu : 1D array of x-coordinates of upper surface\n",
        "        xl : 1D array of z-coordinates of lower surface\n",
        "        zl : 1D array of z-coordinates of lower surface\n",
        "    \"\"\"\n",
        "    with open(datfile,'r') as f:\n",
        "        lines = [lineraw.strip() for lineraw in f]\n",
        "    iline = -1\n",
        "    surfaces = []\n",
        "    current_surface = []\n",
        "\n",
        "    # Nested function to read and parse a line of text in the file\n",
        "    def scanf(l):\n",
        "        import re\n",
        "        found = re.compile('([-+]?(?:\\\\d+(?:\\\\.\\\\d*)?|\\\\.\\\\d+)'\\\n",
        "            +'(?:[eE][-+]?\\\\d+)?)\\\\s+([-+]?(?:\\\\d+(?:\\\\.\\\\d*)?|\\\\.\\\\d+)'\\\n",
        "            +'(?:[eE][-+]?\\\\d+)?)').search(l)\n",
        "        casts = [float, float]\n",
        "        if found:\n",
        "            groups = found.groups()\n",
        "            return tuple([casts[i](groups[i]) for i in range(len(groups))])\n",
        "\n",
        "    for line in lines: #Read line by line till eof\n",
        "        iline += 1\n",
        "        if iline < 2: continue #Skip 2 header lines\n",
        "        if len(line.strip()) < 3: #Empty line: signals end of a surface definition\n",
        "            if len(current_surface) > 0: #A surface has been read\n",
        "                surfaces.append(np.array(current_surface)) #This surface is done\n",
        "                current_surface = [] #Start a fresh one\n",
        "        else:\n",
        "            try:\n",
        "                xz = scanf(line)\n",
        "            except Exception as e:\n",
        "                print(\"Problem decoding line \\\"%s\\\"\" % line)\n",
        "                raise e\n",
        "            if len(xz) == 2:\n",
        "                current_surface.append(xz)\n",
        "            else:\n",
        "                raise Exception('Too many numerical tokens found in line: '+line)\n",
        "    # Add last coordinate set we were working on to list of coordinate sets (if\n",
        "    # file doesn't have blank lines at the end)\n",
        "    if len(current_surface) > 0: #A surface has been read\n",
        "        surfaces.append(np.array(current_surface)) #This surface is done\n",
        "    if len(surfaces) != 2:\n",
        "        raise Exception('Only two surfaces expected, found %d'%len(surfaces))\n",
        "    # Separate out upper and lower surfaces\n",
        "    xzu = surfaces[0]\n",
        "    xzl = surfaces[1]\n",
        "    # Return desired arrays\n",
        "    return xzu[:,0], xzu[:,1], xzl[:,0], xzl[:,1]"
      ],
      "metadata": {
        "id": "LQZrkr-bqgKY"
      },
      "execution_count": 5,
      "outputs": []
    },
    {
      "cell_type": "code",
      "source": [
        "class AirfoilFromPoints(AirfoilSpec):\n",
        "    \"\"\" Implementation of class derived from AirfoilSpec for defining the\n",
        "        geometry of an airfoil from the set of point coordinates of its upper\n",
        "        and lower surface\n",
        "\n",
        "        airfoil = AirfoilFromPoints(filename='myAirfoil.dat')\n",
        "    \"\"\"\n",
        "    def __init__(self,**kwarg):\n",
        "        LednicerFile = kwarg['filename'];   del kwarg['filename']\n",
        "        super().__init__(**kwarg)\n",
        "        self.xu, self.zu, self.xl, self.zl = AirfoilPtsGnrl(LednicerFile)\n",
        "    \n",
        "    # Get points on upper surface by linear interpolation of specified points\n",
        "    def zu_by_c(self,x_by_c):\n",
        "        return np.interp(x_by_c,self.xu,self.zu)\n",
        "    \n",
        "    # Get points on lower surface by linear interpolation of specified points\n",
        "    def zl_by_c(self,x_by_c):\n",
        "        return np.interp(x_by_c,self.xl,self.zl)\n",
        "    \n",
        "    # Find camber from the average of the upper & lower surfaces' z-coordinates\n",
        "    def zc_by_c(self,x_by_c):\n",
        "        return (self.zu_by_c(x_by_c)+self.zl_by_c(x_by_c))/2\n",
        "    \n",
        "    # Find semi-thickness as half the difference between the upper & lower\n",
        "    # surfaces' z-coordinates\n",
        "    def zt_by_c(self,x_by_c):\n",
        "        return (self.zu_by_c(x_by_c)-self.zl_by_c(x_by_c))/2"
      ],
      "metadata": {
        "id": "iVqJt1EXqksM"
      },
      "execution_count": 6,
      "outputs": []
    },
    {
      "cell_type": "code",
      "source": [
        "def visualizeAirfoil(airfoil):\n",
        "    \"\"\" Function that takes an instantiated object of a class that specifies\n",
        "        airfoil geometry, and does something with it.\n",
        "\n",
        "        In this case, it visualizes the airfoil and plots the derivatives of\n",
        "        its camber and thickness distributions\n",
        "        \n",
        "        INPUTS:\n",
        "        airfoil : Instance of airfoil geometry specification class\n",
        "\n",
        "        OUTPUTS:\n",
        "        None\n",
        "    \"\"\"\n",
        "    # Plot the airfoil\n",
        "    airfoil.plot()\n",
        "    # Prepare x-coordinate array for plotting derivatives; omit LE where thickness\n",
        "    # derivative is theoretically infinite for the NACA 4 digit airfoil family\n",
        "    x_by_c = np.linspace(0,1,100);  x_by_c = x_by_c[1:]\n",
        "    plt.figure()\n",
        "    plt.subplot(2,1,1)\n",
        "    plt.plot(x_by_c,airfoil.dzc_dx(x_by_c));\n",
        "    plt.ylabel('dz_c/dx')\n",
        "    plt.subplot(2,1,2)\n",
        "    plt.plot(x_by_c,airfoil.dzt_dx(x_by_c));\n",
        "    plt.ylabel('dz_t/dx')\n",
        "    plt.xlabel('x/c');"
      ],
      "metadata": {
        "id": "WNiGEre-qoqo"
      },
      "execution_count": 7,
      "outputs": []
    },
    {
      "cell_type": "code",
      "source": [],
      "metadata": {
        "id": "GT4GfsRb_k2_"
      },
      "execution_count": 7,
      "outputs": []
    },
    {
      "cell_type": "code",
      "source": [
        "# Visualize a NACA 4-digit airfoil and the derivatives of its camber and\n",
        "# thickness distributions\n",
        "naca1 = '2412'\n",
        "airfoil1 = NACA4digit(digits='2412')\n",
        "visualizeAirfoil(airfoil1)"
      ],
      "metadata": {
        "colab": {
          "base_uri": "https://localhost:8080/",
          "height": 382
        },
        "id": "f8vKTjWqqsAr",
        "outputId": "06e25234-9507-46a0-abf7-d19ddcd5c002"
      },
      "execution_count": 8,
      "outputs": [
        {
          "output_type": "display_data",
          "data": {
            "text/plain": [
              "<Figure size 432x288 with 1 Axes>"
            ],
            "image/png": "[encoded data removed]"
          },
          "metadata": {
            "needs_background": "light"
          }
        },
        {
          "output_type": "display_data",
          "data": {
            "text/plain": [
              "<Figure size 432x288 with 2 Axes>"
            ],
            "image/png": "[encoded data removed]"
          },
          "metadata": {
            "needs_background": "light"
          }
        }
      ]
    },
    {
      "cell_type": "code",
      "source": [
        "\n",
        "# theta = np.linspace(0,pi,100);  theta = theta[1:]\n",
        "# d_theta = theta[2]-theta[1] \n",
        "# x_by_c = 0.5*(1- np.cos(theta))\n",
        "# dzc_dx = airfoil1.dzc_dx(x_by_c)\n",
        "# zc_by_c = airfoil1.zc_by_c(x_by_c)\n",
        "\n",
        "# # print(x_by_c)"
      ],
      "metadata": {
        "id": "Sxobrr6T_oQs"
      },
      "execution_count": 9,
      "outputs": []
    },
    {
      "cell_type": "code",
      "source": [
        "\n",
        "# alpha = 5*pi/180\n",
        "# int_0 = np.sum(dzc_dx*d_theta)\n",
        "# int_1 = np.sum(dzc_dx*(np.cos(theta)-1)*d_theta)\n",
        "# int_2 = np.sum(dzc_dx*(np.cos(theta)-np.cos(2*theta))*d_theta)\n",
        "# c_l = 2*pi*alpha + 2*int_1\n",
        "# c_m_c4 = -0.5*int_2\n",
        "# cp_1_u = -2*alpha*np.sqrt((1-x_by_c)/x_by_c)\n",
        "# cp_1_l = 2*alpha*np.sqrt((1-x_by_c)/x_by_c)\n",
        "# A_0 = -1/pi*int_0\n",
        "# A_n = np.zeros(100)\n",
        "# B_n = np.zeros_like(x_by_c)\n",
        "\n",
        "# for j in range(1,100):\n",
        "\n",
        "#   B_n_copy = B_n\n",
        "\n",
        "#   # for i in range(0,len(x_by_c)):\n",
        "\n",
        "#   A_n[j] = 2/pi*np.sum(dzc_dx*np.cos(j*theta)*d_theta)\n",
        "\n",
        "#   B_n = A_n[j]*np.sin(j*theta)\n",
        "\n",
        "#   B_n = B_n + B_n_copy\n",
        "\n",
        "# # print(B_n)\n",
        "\n",
        "# cp_2_u = -2*(A_0*(1+np.cos(theta))/np.sin(theta) + B_n)\n",
        "\n",
        "# cp_u = cp_1_u + cp_2_u\n",
        "# cp_l = cp_1_l - cp_2_u\n",
        "\n",
        "\n",
        "# print(c_m_c4)\n",
        "# print(c_l)\n",
        "\n",
        "# plt.plot(x_by_c,cp_u)\n",
        "# plt.plot(x_by_c,cp_l)"
      ],
      "metadata": {
        "id": "peGNuQVPW031"
      },
      "execution_count": 10,
      "outputs": []
    },
    {
      "cell_type": "code",
      "source": [
        "\"\"\" Visualize an airfoil like the RAE2822 that is specified by its points\n",
        "\"\"\"\n",
        "# Get the point coordinates from the excellent U. of Illinois airfoil database\n",
        "!wget https://m-selig.ae.illinois.edu/ads/coord/rae2822.dat;\n",
        "# Instantiate the class for specifying the airfoil geometry from the coordinates\n",
        "# present in this file\n",
        "airfoil2 = AirfoilFromPoints(filename='rae2822.dat',name='RAE2822')\n",
        "# Visualize\n",
        "visualizeAirfoil(airfoil2)"
      ],
      "metadata": {
        "colab": {
          "base_uri": "https://localhost:8080/",
          "height": 576
        },
        "id": "aRypjlnYq1A-",
        "outputId": "c8944a96-eb74-4ff2-f144-1d2eb2265de7"
      },
      "execution_count": 11,
      "outputs": [
        {
          "output_type": "stream",
          "name": "stdout",
          "text": [
            "--2022-12-04 17:36:06--  https://m-selig.ae.illinois.edu/ads/coord/rae2822.dat\n",
            "Resolving m-selig.ae.illinois.edu (m-selig.ae.illinois.edu)... 18.220.149.166\n",
            "Connecting to m-selig.ae.illinois.edu (m-selig.ae.illinois.edu)|18.220.149.166|:443... connected.\n",
            "HTTP request sent, awaiting response... 200 OK\n",
            "Length: 2904 (2.8K)\n",
            "Saving to: ‘rae2822.dat’\n",
            "\n",
            "\rrae2822.dat           0%[                    ]       0  --.-KB/s               \rrae2822.dat         100%[===================>]   2.84K  --.-KB/s    in 0s      \n",
            "\n",
            "2022-12-04 17:36:07 (349 MB/s) - ‘rae2822.dat’ saved [2904/2904]\n",
            "\n"
          ]
        },
        {
          "output_type": "display_data",
          "data": {
            "text/plain": [
              "<Figure size 432x288 with 1 Axes>"
            ],
            "image/png": "[encoded data removed]"
          },
          "metadata": {
            "needs_background": "light"
          }
        },
        {
          "output_type": "display_data",
          "data": {
            "text/plain": [
              "<Figure size 432x288 with 2 Axes>"
            ],
            "image/png": "[encoded data removed]"
          },
          "metadata": {
            "needs_background": "light"
          }
        }
      ]
    },
    {
      "cell_type": "code",
      "source": [
        "class visuallyCompareAirfoils(object):\n",
        "    \"\"\" Class that has one or more airfoil objects as attributes, may be from\n",
        "        the time of its constuction, or from later; and does something with them\n",
        "\n",
        "        In this case it takes two airfoil specification objects, and plots the\n",
        "        airfoils on the same axes for comparison.\n",
        "    \"\"\"\n",
        "    def __init__(self,airfoilA,airfoilB):\n",
        "        self.airfoilA = airfoilA\n",
        "        self.airfoilB = airfoilB\n",
        "    \n",
        "    def compare(self):\n",
        "        self.airfoilA.plot()\n",
        "        axes = plt.gca()\n",
        "        self.airfoilB.plot(axes=axes)\n",
        "        plt.legend([airfoil1.name,airfoil2.name],bbox_to_anchor = (1.03, 0.5));"
      ],
      "metadata": {
        "id": "9iHai-Gqq3_m"
      },
      "execution_count": 12,
      "outputs": []
    },
    {
      "cell_type": "code",
      "source": [
        "# Compare two airfoils on the same axes\n",
        "vca = visuallyCompareAirfoils(airfoil1,airfoil2)\n",
        "vca.compare()"
      ],
      "metadata": {
        "colab": {
          "base_uri": "https://localhost:8080/",
          "height": 124
        },
        "id": "agRvNK9Iq9Q2",
        "outputId": "8c5fa615-8a6c-488d-c537-0de3d0c79ee8"
      },
      "execution_count": 13,
      "outputs": [
        {
          "output_type": "display_data",
          "data": {
            "text/plain": [
              "<Figure size 432x288 with 1 Axes>"
            ],
            "image/png": "[encoded data removed]"
          },
          "metadata": {
            "needs_background": "light"
          }
        }
      ]
    },
    {
      "cell_type": "markdown",
      "source": [
        "Q2: Method to calculate lift, quarter-chord moment and pressure coefficients"
      ],
      "metadata": {
        "id": "P5OMAjkSrm8R"
      }
    },
    {
      "cell_type": "code",
      "source": [
        "# Calculation of Sectional lift coefficient using Thin airfoil theory:\n",
        "\n",
        "# Define class thin airfoil soln that takes in airfoil data from code given in \n",
        "# PrL2 hint as the argument\n",
        "\n",
        "class Thin_airfoilsoln(object):\n",
        "\n",
        "  def __init__(self, airfoil = \"2412\"  ):\n",
        "\n",
        "    self.airfoil  = NACA4digit(digits= airfoil) #assign attribute airfoil\n",
        "    \n",
        "\n",
        "  \n",
        "# define a method to numerically integrate a function f (given as a 1D \n",
        "# numpy array):\n",
        "  def integrate(self, f, dx) :\n",
        "    return np.sum(f*dx)\n",
        "# method to calculate lift coefficient (c_l), pitching moment coefficient about \n",
        "# quarter chord point (c_m_c4) and pressure coefficient (cp_u and cp_l) \n",
        "# distribution over the surface \n",
        "# along x (normalised with c):\n",
        "  def calculate(self, alpha, flag) : # method takes the angle of attack alpha and\n",
        "  #                                    a flag to control whether it should return \n",
        "  #                                    a plot of c\n",
        "\n",
        "    # defining theta as a 1D numpy array between 0 and pi and d_theta for numerical\n",
        "    #  integration\n",
        "    theta = np.linspace(0,pi,100)\n",
        "    theta = theta[1:]\n",
        "    d_theta = theta[2]-theta[1] \n",
        "    # performing coordinate transform form theta to x_by_c :\n",
        "    x_by_c = 0.5*(1- np.cos(theta))\n",
        "\n",
        "    # obtaining the slope at airfoil camberline and z coordinate from input :\n",
        "    dzc_dx = self.airfoil.dzc_dx(x_by_c)\n",
        "    zc_by_c = self.airfoil.zc_by_c(x_by_c)\n",
        "\n",
        "    # define vortex sheet density for angle of attack problem (normalised with \n",
        "    # free stream velocity V_inf) as gamma_by_V_inf:\n",
        "    gamma_by_V_inf = 2*alpha*np.sqrt((1-x_by_c)/x_by_c) \n",
        "\n",
        "    # integration of slope dz_c/dx with respect to theta for finding vortex\n",
        "    #  sheet density gamma (normalised with V_inf) for camber problem\n",
        "    int_0 = self.integrate(dzc_dx, d_theta)\n",
        "\n",
        "    # integration of dz_c/dx * (cos(theta)-1) with respect to theta for c_l\n",
        "    int_1 = self.integrate(dzc_dx*(np.cos(theta)-1), d_theta)\n",
        "\n",
        "    # integration of dz_c/dx * (cos(theta)-cos(2theta)) with respect to theta for c_m_c4\n",
        "    int_2 = self.integrate(dzc_dx*(np.cos(theta)-np.cos(2*theta)), d_theta)\n",
        "\n",
        "  # calculation of c_l using solutions of angle of attack problem in \n",
        "  # thin airfoil theory:\n",
        "\n",
        "    # calculate velocity normalised circulation by integrating circulation density:\n",
        "    int_3 = self.integrate(gamma_by_V_inf*np.sin(theta), d_theta)\n",
        "\n",
        "    # since the above integral uses chord normalised values for theta and free\n",
        "    # stream velocity normalised values for vortex density (gamma/V_inf),\n",
        "    # we can readily calculate c_l\n",
        "\n",
        "\n",
        "    # calculation of c_l using solutions of angle of attack and camber problem\n",
        "    c_l = 2*int_3 + 2*int_1\n",
        "\n",
        "    # calculation of c_m_c4 using solutions of angle of attack and camber problem\n",
        "    c_m_c4 = -0.5*int_2\n",
        "\n",
        "    # calculation of c_p using solutions of angle of attack and camber problem\n",
        "\n",
        "    # first, calculating contribution of pressure coefficient due to angle of \n",
        "    # attack problem on both upper and lower surface: \n",
        "    cp_1_u = -2*alpha*np.sqrt((1-x_by_c)/x_by_c)\n",
        "    cp_1_l = 2*alpha*np.sqrt((1-x_by_c)/x_by_c)\n",
        "\n",
        "    # for the camber problem contribution towards c_p we compute it as gamma/V_infinity.\n",
        "\n",
        "    # finding coefficients for gamma/V_infinity: \n",
        "    A_0 = -1/pi*int_0     # already calculated before\n",
        "\n",
        "    A_n = np.zeros(100)   # array for storing values of each coefficient A_n \n",
        "    #                     (we consider only first 100 terms)\n",
        "\n",
        "\n",
        "    B_n = np.zeros_like(x_by_c) # array for storing values of summation of \n",
        "    #                             first hundred terms of the expression for \n",
        "    #                             gamma/V_infinity\n",
        "\n",
        "\n",
        "    # for obtaining the summation of 100 terms\n",
        "    for j in range(1,100):\n",
        "\n",
        "      B_n_copy = B_n\n",
        "\n",
        "      A_n[j] = 2/pi*np.sum(dzc_dx*np.cos(j*theta)*d_theta)\n",
        "\n",
        "      B_n = A_n[j]*np.sin(j*theta)\n",
        "\n",
        "      B_n = B_n + B_n_copy\n",
        "\n",
        "    # camber problem contribution towards c_p obtained as:\n",
        "    cp_2_u = -2*(A_0*(1+np.cos(theta))/np.sin(theta) + B_n)\n",
        "\n",
        "    \n",
        "    # since equation is linear in gamma, we can add both solutions to get total\n",
        "    # contribution to cp on upper and lower surface:\n",
        "    cp_u = cp_1_u + cp_2_u\n",
        "    cp_l = cp_1_l - cp_2_u\n",
        "\n",
        "    # plotting function controlled by flag:\n",
        "    if flag == 1:\n",
        "      \n",
        "      plt.plot(x_by_c,cp_u, label= \"upper surface\")\n",
        "      plt.plot(x_by_c,cp_l, label = \"lower surface\")\n",
        "      plt.title(\"c_p vs x/c plot\")\n",
        "      plt.xlabel(\"x/c\")\n",
        "      plt.ylabel(\"c_p\")\n",
        "      plt.legend()\n",
        "      \n",
        "\n",
        "    \n",
        "    # returning values of c_l, c_m_c4, cp_l and cp_u. cp_l and cp_u are 1D numpy arrays\n",
        "    return c_l, c_m_c4, cp_l, cp_u\n",
        "\n",
        "  \n",
        "  # for repeated calculations of c_l and c_m_c4, define a method to only \n",
        "  # calculate c_l and c_m_c4 and not cp_u and cp_l\n",
        "\n",
        "  def quick_calculate(self, alpha, flag) : # method takes the angle of attack alpha and\n",
        "  #                                    a flag to control whether it should return \n",
        "  #                                    a plot of c\n",
        "\n",
        "    # defining theta as a 1D numpy array between 0 and pi and d_theta for numerical\n",
        "    #  integration\n",
        "    theta = np.linspace(0,pi,100)\n",
        "    theta = theta[1:]\n",
        "    d_theta = theta[2]-theta[1] \n",
        "    # performing coordinate transform form theta to x_by_c :\n",
        "    x_by_c = 0.5*(1- np.cos(theta))\n",
        "\n",
        "    # obtaining the slope at airfoil camberline and z coordinate from input :\n",
        "    dzc_dx = self.airfoil.dzc_dx(x_by_c)\n",
        "    zc_by_c = self.airfoil.zc_by_c(x_by_c)\n",
        "\n",
        "    # integration of slope dz_c/dx with respect to theta for finding vortex sheet density\n",
        "    int_0 = self.integrate(dzc_dx, d_theta)\n",
        "\n",
        "    # integration of dz_c/dx * (cos(theta)-1) with respect to theta for c_l\n",
        "    int_1 = self.integrate(dzc_dx*(np.cos(theta)-1), d_theta)\n",
        "\n",
        "    # integration of dz_c/dx * (cos(theta)-cos(2theta)) with respect to theta for c_m_c4\n",
        "    int_2 = self.integrate(dzc_dx*(np.cos(theta)-np.cos(2*theta)), d_theta)\n",
        "\n",
        "    # calculation of c_l using solutions of angle of attack and camber problem\n",
        "    c_l = 2*pi*alpha + 2*int_1\n",
        "\n",
        "    # calculation of c_m_c4 using solutions of angle of attack and camber problem\n",
        "    c_m_c4 = -0.5*int_2\n",
        "\n",
        "\n",
        "    return c_l, c_m_c4\n"
      ],
      "metadata": {
        "id": "NgJTSuaWrN_c"
      },
      "execution_count": 36,
      "outputs": []
    },
    {
      "cell_type": "code",
      "source": [
        "airfoil_A = Thin_airfoilsoln(\"2412\")\n",
        "c_l, c_m_c4, cp_l, cp_u = airfoil_A.calculate(alpha=0, flag = 1)\n",
        "print(c_l, c_m_c4)\n",
        "\n",
        "\n"
      ],
      "metadata": {
        "colab": {
          "base_uri": "https://localhost:8080/",
          "height": 312
        },
        "id": "d67bmOdl6Lcz",
        "outputId": "a3a54ccf-f551-4846-e64f-ed2578f50a78"
      },
      "execution_count": 37,
      "outputs": [
        {
          "output_type": "stream",
          "name": "stdout",
          "text": [
            "0.23202719579016035 -0.05417642175470456\n"
          ]
        },
        {
          "output_type": "display_data",
          "data": {
            "text/plain": [
              "<Figure size 432x288 with 1 Axes>"
            ],
            "image/png": "[encoded data removed]"
          },
          "metadata": {
            "needs_background": "light"
          }
        }
      ]
    },
    {
      "cell_type": "code",
      "source": [
        "# program for running the above code repeatedly to plot cl vs alpha and \n",
        "# c_m_c4 vs alpha curves\n",
        "\n",
        "alpha_values = np.linspace(-20*pi/180, 20*pi/180, 160)\n",
        "c_l_values = np.zeros_like(alpha_values)\n",
        "c_m_c4_values = np.zeros_like(alpha_values)\n",
        "airfoil_B = Thin_airfoilsoln(\"2412\")\n",
        "\n",
        "for i in range (0, len(alpha_values)) :\n",
        "  c_l_values[i], c_m_c4_values[i] = airfoil_B.quick_calculate(alpha = alpha_values[i], flag = 0)\n",
        "  \n",
        "plt.plot(180*alpha_values/pi, c_l_values,label= \"c_l\")\n",
        "plt.plot(180*alpha_values/pi, c_m_c4_values,label= \"c_m,c/4\")\n",
        "plt.title(\"c_l, c_m_c/4 vs alpha plot\")\n",
        "plt.xlabel(\"alpha(degrees)\")\n",
        "plt.ylabel(\"c_l, c_m_c/4\")\n",
        "plt.legend()\n"
      ],
      "metadata": {
        "id": "Qntzh3K-I7QC",
        "colab": {
          "base_uri": "https://localhost:8080/",
          "height": 312
        },
        "outputId": "c0158da4-1d7a-40d5-b2f2-44fed1d5100f"
      },
      "execution_count": 33,
      "outputs": [
        {
          "output_type": "execute_result",
          "data": {
            "text/plain": [
              "<matplotlib.legend.Legend at 0x7fe940466c70>"
            ]
          },
          "metadata": {},
          "execution_count": 33
        },
        {
          "output_type": "display_data",
          "data": {
            "text/plain": [
              "<Figure size 432x288 with 1 Axes>"
            ],
            "image/png": "[encoded data removed]"
          },
          "metadata": {
            "needs_background": "light"
          }
        }
      ]
    },
    {
      "cell_type": "markdown",
      "source": [
        "Q 3: Comparison with experimental data:\n",
        "\n",
        "Experimental data was obtained from http://airfoiltools.com/polar/csv?polar=xf-naca2412-il-1000000 .\n",
        "\n",
        "Using 36 points from obtained experimental data, we compare the $c_{l}-\\alpha$ curve and $c_{m,c/4}-\\alpha$ curves"
      ],
      "metadata": {
        "id": "ht9NeJtxpbeq"
      }
    },
    {
      "cell_type": "code",
      "source": [
        "expt_values_alpha = np.array([ -17.5,\n",
        "-17.25,\n",
        "-17,\n",
        "-16.75,\n",
        "-16.5,\n",
        "-16.25,\n",
        "-16,\n",
        "-15.75,\n",
        "-15.5,\n",
        "-15.25,\n",
        "-15,\n",
        "-14.75,\n",
        "-14.5,\n",
        "-14.25,\n",
        "-14,\n",
        "-13.75,\n",
        "-13.5,\n",
        "-13.25,\n",
        "-13,\n",
        "-12.75,\n",
        "-12.5,\n",
        "-12.25,\n",
        "-12,\n",
        "-11.75,\n",
        "-11.5,\n",
        "-11.25,\n",
        "-11,\n",
        "-10.75,\n",
        "-10.5,\n",
        "-10.25,\n",
        "-10,\n",
        "-9.75,\n",
        "-9.5,\n",
        "-9.25,\n",
        "-9,\n",
        "-8.75,\n",
        "-8.5,\n",
        "-8.25,\n",
        "-8,\n",
        "-7.75,\n",
        "-7.5,\n",
        "-7.25,\n",
        "-7,\n",
        "-6.75,\n",
        "-6.5,\n",
        "-6.25,\n",
        "-6,\n",
        "-5.75,\n",
        "-5.5,\n",
        "-5.25,\n",
        "-5,\n",
        "-4.75,\n",
        "-4.5,\n",
        "-4,\n",
        "-3.75,\n",
        "-3.5,\n",
        "-3.25,\n",
        "-3,\n",
        "-2.75,\n",
        "-2.5,\n",
        "-2.25,\n",
        "-2,\n",
        "-1.75,\n",
        "-1.5,\n",
        "-1.25,\n",
        "-1,\n",
        "-0.75,\n",
        "-0.5,\n",
        "-0.25,\n",
        "0,\n",
        "0.25,\n",
        "0.5,\n",
        "0.75,\n",
        "1,\n",
        "1.25,\n",
        "1.5,\n",
        "1.75,\n",
        "2,\n",
        "2.75,\n",
        "3,\n",
        "3.25,\n",
        "3.5,\n",
        "3.75,\n",
        "4,\n",
        "4.25,\n",
        "4.5,\n",
        "4.75,\n",
        "5,\n",
        "5.25,\n",
        "5.5,\n",
        "5.75,\n",
        "6,\n",
        "6.25,\n",
        "6.5,\n",
        "6.75,\n",
        "7,\n",
        "7.25,\n",
        "7.5,\n",
        "7.75,\n",
        "8,\n",
        "8.25,\n",
        "8.5,\n",
        "8.75,\n",
        "9,\n",
        "9.25,\n",
        "9.5,\n",
        "9.75,\n",
        "10,\n",
        "10.25,\n",
        "10.5,\n",
        "10.75,\n",
        "11,\n",
        "11.25,\n",
        "11.5,\n",
        "11.75,\n",
        "12,\n",
        "12.25,\n",
        "12.5,\n",
        "12.75,\n",
        "13,\n",
        "13.25,\n",
        "13.5,\n",
        "13.75,\n",
        "14,\n",
        "14.25,\n",
        "14.5,\n",
        "14.75,\n",
        "15,\n",
        "15.25,\n",
        "15.5,\n",
        "15.75,\n",
        "16,\n",
        "16.25,\n",
        "16.5,\n",
        "16.75,\n",
        "17,\n",
        "17.25,\n",
        "17.5,\n",
        "17.75,\n",
        "18,\n",
        "18.25,\n",
        "18.5,\n",
        "18.75,\n",
        "19,\n",
        "19.25,])\n",
        "\n",
        "\n",
        "expt_values_cl = np.array([-1.1118,\n",
        "-1.1738,\n",
        "-1.2296,\n",
        "-1.2629,\n",
        "-1.279,\n",
        "-1.2852,\n",
        "-1.2869,\n",
        "-1.2853,\n",
        "-1.2815,\n",
        "-1.2755,\n",
        "-1.2674,\n",
        "-1.2667,\n",
        "-1.2585,\n",
        "-1.2429,\n",
        "-1.2251,\n",
        "-1.2068,\n",
        "-1.1881,\n",
        "-1.169,\n",
        "-1.1561,\n",
        "-1.1417,\n",
        "-1.1239,\n",
        "-1.1058,\n",
        "-1.0881,\n",
        "-1.0704,\n",
        "-1.0519,\n",
        "-1.0327,\n",
        "-1.0222,\n",
        "-1.0046,\n",
        "-0.9766,\n",
        "-0.9448,\n",
        "-0.9125,\n",
        "-0.8793,\n",
        "-0.8484,\n",
        "-0.8172,\n",
        "-0.7863,\n",
        "-0.7542,\n",
        "-0.7211,\n",
        "-0.687,\n",
        "-0.652,\n",
        "-0.6166,\n",
        "-0.585,\n",
        "-0.5532,\n",
        "-0.5207,\n",
        "-0.4884,\n",
        "-0.4627,\n",
        "-0.4342,\n",
        "-0.4073,\n",
        "-0.3804,\n",
        "-0.3538,\n",
        "-0.3274,\n",
        "-0.3006,\n",
        "-0.2737,\n",
        "-0.2465,\n",
        "-0.1918,\n",
        "-0.1645,\n",
        "-0.1372,\n",
        "-0.11,\n",
        "-0.0825,\n",
        "-0.0552,\n",
        "-0.0277,\n",
        "-0.0003,\n",
        "0.0272,\n",
        "0.0546,\n",
        "0.0819,\n",
        "0.1092,\n",
        "0.1362,\n",
        "0.1632,\n",
        "0.1903,\n",
        "0.2173,\n",
        "0.2442,\n",
        "0.2709,\n",
        "0.2968,\n",
        "0.3217,\n",
        "0.3469,\n",
        "0.3722,\n",
        "0.3979,\n",
        "0.425,\n",
        "0.4549,\n",
        "0.5582,\n",
        "0.5945,\n",
        "0.6318,\n",
        "0.6686,\n",
        "0.6918,\n",
        "0.7153,\n",
        "0.7389,\n",
        "0.7624,\n",
        "0.7858,\n",
        "0.8089,\n",
        "0.8319,\n",
        "0.8552,\n",
        "0.8784,\n",
        "0.9016,\n",
        "0.9251,\n",
        "0.9483,\n",
        "0.971,\n",
        "0.9944,\n",
        "1.0179,\n",
        "1.0414,\n",
        "1.0644,\n",
        "1.0885,\n",
        "1.1111,\n",
        "1.1353,\n",
        "1.1585,\n",
        "1.1801,\n",
        "1.2032,\n",
        "1.2262,\n",
        "1.2485,\n",
        "1.2696,\n",
        "1.2881,\n",
        "1.309,\n",
        "1.3299,\n",
        "1.35,\n",
        "1.3684,\n",
        "1.3833,\n",
        "1.3931,\n",
        "1.4114,\n",
        "1.4284,\n",
        "1.4446,\n",
        "1.4595,\n",
        "1.4699,\n",
        "1.4815,\n",
        "1.4967,\n",
        "1.5106,\n",
        "1.5228,\n",
        "1.5311,\n",
        "1.5386,\n",
        "1.5499,\n",
        "1.5597,\n",
        "1.5675,\n",
        "1.5712,\n",
        "1.5723,\n",
        "1.5775,\n",
        "1.5806,\n",
        "1.582,\n",
        "1.5815,\n",
        "1.5784,\n",
        "1.5716,\n",
        "1.5603,\n",
        "1.5483,\n",
        "1.5415,\n",
        "1.5328,\n",
        "1.5214,\n",
        "1.5083,\n",
        "1.4942,\n",
        "1.4781,\n",
        "])\n",
        "plt.plot(180*alpha_values/pi, c_l_values, label= \"predicted\")\n",
        "\n",
        "plt.plot(expt_values_alpha, expt_values_cl, label = \"experimental\")\n",
        "\n",
        "plt.title(\"c_l vs alpha plot comparison\")\n",
        "plt.xlabel(\"alpha(degrees)\")\n",
        "plt.ylabel(\"c_l\")\n",
        "plt.legend()\n",
        "\n"
      ],
      "metadata": {
        "colab": {
          "base_uri": "https://localhost:8080/",
          "height": 312
        },
        "id": "5sDemOqZe3bB",
        "outputId": "94ad3a7b-65ba-4fca-92a2-2014c0bd0201"
      },
      "execution_count": 31,
      "outputs": [
        {
          "output_type": "execute_result",
          "data": {
            "text/plain": [
              "<matplotlib.legend.Legend at 0x7fe93ff0f190>"
            ]
          },
          "metadata": {},
          "execution_count": 31
        },
        {
          "output_type": "display_data",
          "data": {
            "text/plain": [
              "<Figure size 432x288 with 1 Axes>"
            ],
            "image/png": "[encoded data removed]"
          },
          "metadata": {
            "needs_background": "light"
          }
        }
      ]
    },
    {
      "cell_type": "markdown",
      "source": [
        "Q4: Detailed comparison with experimental values\n",
        "\n",
        "Airfoil chosen : NACA 2412\n",
        "\n",
        "Since thin airfoil theory assumes that region of flow affected by viscosity is small, we choose a high Reynold's number ( $R_{e}$ = 1000000 ) flow.\n",
        "\n",
        "Experimental data was obtained from http://airfoiltools.com/polar/csv?polar=xf-naca2412-il-1000000 .\n",
        "\n",
        "A .csv file is attached with the assignment for reference\n",
        "\n",
        "\n",
        "a) Comparison of lift slopes :\n",
        "\n",
        "\n",
        "\n"
      ],
      "metadata": {
        "id": "sO_sLAVosIPq"
      }
    },
    {
      "cell_type": "code",
      "source": [
        "Slope = np.zeros_like(c_l_values)\n",
        "Slope_exp = np.zeros_like(expt_values_cl)\n",
        "\n",
        "for i in range(0,len(Slope)-1) :\n",
        "  Slope =  (c_l_values[i+1]-c_l_values[i])/(180/pi*(alpha_values[i+1]- alpha_values[i]))\n",
        "Slope_TAtheory = np.average(Slope) \n",
        "\n",
        "\n",
        " \n",
        "# Slope_exp[:-1] #to avoid error due to last zero value\n",
        "Slope_Exp = 0.107917094 # calculated from attached excel sheet using c_l values\n",
        "                        # for alpha between -10 degrees to +10 degrees\n",
        "\n",
        "print(Slope_TAtheory)\n"
      ],
      "metadata": {
        "colab": {
          "base_uri": "https://localhost:8080/"
        },
        "id": "c4LO4m0Vdi3-",
        "outputId": "df6c2532-ec01-4306-866a-96a391e940a6"
      },
      "execution_count": 18,
      "outputs": [
        {
          "output_type": "stream",
          "name": "stdout",
          "text": [
            "0.10966227112321542\n"
          ]
        }
      ]
    },
    {
      "cell_type": "markdown",
      "source": [
        "We see that the lift slope agrees very closely in the linear region. This can be explained due to the fact that for high Reynold's number, the region where viscous effects dominate is very small. \n",
        "It is also evident that our data fails to agree at high angle of attack as the fundamental assumption of minimal perturbation of flow breaks down and flow separation occurs due to viscous effects. "
      ],
      "metadata": {
        "id": "9HE4Eiq0Ucy-"
      }
    },
    {
      "cell_type": "markdown",
      "source": [
        "b) Comparison of zero lift angle of attack $\\alpha_{L=0}$"
      ],
      "metadata": {
        "id": "7peCZBi9AKTf"
      }
    },
    {
      "cell_type": "code",
      "source": [
        "iR = c_l_values > 0\n",
        "iL = c_l_values < 0\n",
        "\n",
        "alpha_R = alpha_values[iR]\n",
        "alpha_L = alpha_values[iL]\n",
        "\n",
        "alpha_L0_theory = 0.5*(180/pi*(alpha_R[0] + alpha_L[-1]))\n",
        "print(alpha_L0_theory)\n",
        "\n",
        "alpha_L0_expt = -2.247272727 # calculated from attached excel sheet\n",
        "\n"
      ],
      "metadata": {
        "colab": {
          "base_uri": "https://localhost:8080/"
        },
        "id": "5klLmNTm2CFM",
        "outputId": "92704db1-c393-4f40-c6ac-eb3ecb220c0f"
      },
      "execution_count": 19,
      "outputs": [
        {
          "output_type": "stream",
          "name": "stdout",
          "text": [
            "-2.0125786163522035\n"
          ]
        }
      ]
    },
    {
      "cell_type": "markdown",
      "source": [
        "Our data is offset by about 10%. This can be attibuted to viscous effects in the experinmental flow.\n",
        "(Experimental data considers viscosity)"
      ],
      "metadata": {
        "id": "TmZc_v_cVooN"
      }
    },
    {
      "cell_type": "markdown",
      "source": [
        "c) Comparing $c_{m,c/4}$ :"
      ],
      "metadata": {
        "id": "0qZfNWqdBWTp"
      }
    },
    {
      "cell_type": "code",
      "source": [
        "expt_values_alpha = np.array([ -17.5,\n",
        "-17.25,\n",
        "-17,\n",
        "-16.75,\n",
        "-16.5,\n",
        "-16.25,\n",
        "-16,\n",
        "-15.75,\n",
        "-15.5,\n",
        "-15.25,\n",
        "-15,\n",
        "-14.75,\n",
        "-14.5,\n",
        "-14.25,\n",
        "-14,\n",
        "-13.75,\n",
        "-13.5,\n",
        "-13.25,\n",
        "-13,\n",
        "-12.75,\n",
        "-12.5,\n",
        "-12.25,\n",
        "-12,\n",
        "-11.75,\n",
        "-11.5,\n",
        "-11.25,\n",
        "-11,\n",
        "-10.75,\n",
        "-10.5,\n",
        "-10.25,\n",
        "-10,\n",
        "-9.75,\n",
        "-9.5,\n",
        "-9.25,\n",
        "-9,\n",
        "-8.75,\n",
        "-8.5,\n",
        "-8.25,\n",
        "-8,\n",
        "-7.75,\n",
        "-7.5,\n",
        "-7.25,\n",
        "-7,\n",
        "-6.75,\n",
        "-6.5,\n",
        "-6.25,\n",
        "-6,\n",
        "-5.75,\n",
        "-5.5,\n",
        "-5.25,\n",
        "-5,\n",
        "-4.75,\n",
        "-4.5,\n",
        "-4,\n",
        "-3.75,\n",
        "-3.5,\n",
        "-3.25,\n",
        "-3,\n",
        "-2.75,\n",
        "-2.5,\n",
        "-2.25,\n",
        "-2,\n",
        "-1.75,\n",
        "-1.5,\n",
        "-1.25,\n",
        "-1,\n",
        "-0.75,\n",
        "-0.5,\n",
        "-0.25,\n",
        "0,\n",
        "0.25,\n",
        "0.5,\n",
        "0.75,\n",
        "1,\n",
        "1.25,\n",
        "1.5,\n",
        "1.75,\n",
        "2,\n",
        "2.75,\n",
        "3,\n",
        "3.25,\n",
        "3.5,\n",
        "3.75,\n",
        "4,\n",
        "4.25,\n",
        "4.5,\n",
        "4.75,\n",
        "5,\n",
        "5.25,\n",
        "5.5,\n",
        "5.75,\n",
        "6,\n",
        "6.25,\n",
        "6.5,\n",
        "6.75,\n",
        "7,\n",
        "7.25,\n",
        "7.5,\n",
        "7.75,\n",
        "8,\n",
        "8.25,\n",
        "8.5,\n",
        "8.75,\n",
        "9,\n",
        "9.25,\n",
        "9.5,\n",
        "9.75,\n",
        "10,\n",
        "10.25,\n",
        "10.5,\n",
        "10.75,\n",
        "11,\n",
        "11.25,\n",
        "11.5,\n",
        "11.75,\n",
        "12,\n",
        "12.25,\n",
        "12.5,\n",
        "12.75,\n",
        "13,\n",
        "13.25,\n",
        "13.5,\n",
        "13.75,\n",
        "14,\n",
        "14.25,\n",
        "14.5,\n",
        "14.75,\n",
        "15,\n",
        "15.25,\n",
        "15.5,\n",
        "15.75,\n",
        "16,\n",
        "16.25,\n",
        "16.5,\n",
        "16.75,\n",
        "17,\n",
        "17.25,\n",
        "17.5,\n",
        "17.75,\n",
        "18,\n",
        "18.25,\n",
        "18.5,\n",
        "18.75,\n",
        "19,\n",
        "19.25,])\n",
        "\n",
        "\n",
        "\n",
        "\n",
        "\n",
        "expt_values_c_m_c4 = np.array( [-0.0338,\n",
        "-0.0418,\n",
        "-0.0502,\n",
        "-0.0575,\n",
        "-0.063,\n",
        "-0.0665,\n",
        "-0.0685,\n",
        "-0.0693,\n",
        "-0.0692,\n",
        "-0.0684,\n",
        "-0.0671,\n",
        "-0.0647,\n",
        "-0.0629,\n",
        "-0.0618,\n",
        "-0.0608,\n",
        "-0.0597,\n",
        "-0.0586,\n",
        "-0.0575,\n",
        "-0.0556,\n",
        "-0.0538,\n",
        "-0.0523,\n",
        "-0.0508,\n",
        "-0.0492,\n",
        "-0.0475,\n",
        "-0.0459,\n",
        "-0.0444,\n",
        "-0.0419,\n",
        "-0.0402,\n",
        "-0.0406,\n",
        "-0.0418,\n",
        "-0.043,\n",
        "-0.0443,\n",
        "-0.0455,\n",
        "-0.0467,\n",
        "-0.0475,\n",
        "-0.0486,\n",
        "-0.0499,\n",
        "-0.0514,\n",
        "-0.053,\n",
        "-0.055,\n",
        "-0.0558,\n",
        "-0.0567,\n",
        "-0.0578,\n",
        "-0.0587,\n",
        "-0.0582,\n",
        "-0.0582,\n",
        "-0.0579,\n",
        "-0.0576,\n",
        "-0.0573,\n",
        "-0.0568,\n",
        "-0.0565,\n",
        "-0.0562,\n",
        "-0.056,\n",
        "-0.0555,\n",
        "-0.0553,\n",
        "-0.0551,\n",
        "-0.0549,\n",
        "-0.0547,\n",
        "-0.0546,\n",
        "-0.0544,\n",
        "-0.0542,\n",
        "-0.0541,\n",
        "-0.054,\n",
        "-0.0538,\n",
        "-0.0536,\n",
        "-0.0534,\n",
        "-0.0532,\n",
        "-0.053,\n",
        "-0.0527,\n",
        "-0.0525,\n",
        "-0.0521,\n",
        "-0.0516,\n",
        "-0.0507,\n",
        "-0.0499,\n",
        "-0.0491,\n",
        "-0.0484,\n",
        "-0.048,\n",
        "-0.0482,\n",
        "-0.0524,\n",
        "-0.0542,\n",
        "-0.0563,\n",
        "-0.0584,\n",
        "-0.0575,\n",
        "-0.0566,\n",
        "-0.0557,\n",
        "-0.0549,\n",
        "-0.054,\n",
        "-0.0531,\n",
        "-0.0522,\n",
        "-0.0513,\n",
        "-0.0505,\n",
        "-0.0497,\n",
        "-0.049,\n",
        "-0.0482,\n",
        "-0.0474,\n",
        "-0.0467,\n",
        "-0.046,\n",
        "-0.0453,\n",
        "-0.0446,\n",
        "-0.044,\n",
        "-0.0431,\n",
        "-0.0426,\n",
        "-0.0419,\n",
        "-0.0409,\n",
        "-0.0402,\n",
        "-0.0395,\n",
        "-0.0387,\n",
        "-0.0378,\n",
        "-0.0364,\n",
        "-0.0354,\n",
        "-0.0344,\n",
        "-0.0333,\n",
        "-0.032,\n",
        "-0.0301,\n",
        "-0.0275,\n",
        "-0.0262,\n",
        "-0.0249,\n",
        "-0.0235,\n",
        "-0.022,\n",
        "-0.0201,\n",
        "-0.0184,\n",
        "-0.0172,\n",
        "-0.016,\n",
        "-0.0147,\n",
        "-0.0133,\n",
        "-0.012,\n",
        "-0.011,\n",
        "-0.0101,\n",
        "-0.0093,\n",
        "-0.0084,\n",
        "-0.0077,\n",
        "-0.0073,\n",
        "-0.007,\n",
        "-0.0069,\n",
        "-0.007,\n",
        "-0.0073,\n",
        "-0.008,\n",
        "-0.009,\n",
        "-0.0104,\n",
        "-0.0116,\n",
        "-0.013,\n",
        "-0.0148,\n",
        "-0.0167,\n",
        "-0.0189,\n",
        "-0.0213])\n",
        "\n",
        "plt.plot(180*alpha_values/pi, c_m_c4_values, label = \"predicted\")\n",
        "\n",
        "plt.plot(expt_values_alpha, expt_values_c_m_c4, label= \"experimental\")\n",
        "\n",
        "plt.title(\"c_m_c/4 vs alpha plot comparison\")\n",
        "plt.xlabel(\"alpha(degrees)\")\n",
        "plt.ylabel(\"c_m_c/4\")\n",
        "plt.legend()\n"
      ],
      "metadata": {
        "colab": {
          "base_uri": "https://localhost:8080/",
          "height": 312
        },
        "id": "vVU0DdRS9r9z",
        "outputId": "4f33fc7c-06d1-4017-9222-311103fb8fc1"
      },
      "execution_count": 38,
      "outputs": [
        {
          "output_type": "execute_result",
          "data": {
            "text/plain": [
              "<matplotlib.legend.Legend at 0x7fe940ee58e0>"
            ]
          },
          "metadata": {},
          "execution_count": 38
        },
        {
          "output_type": "display_data",
          "data": {
            "text/plain": [
              "<Figure size 432x288 with 1 Axes>"
            ],
            "image/png": "[encoded data removed]"
          },
          "metadata": {
            "needs_background": "light"
          }
        }
      ]
    },
    {
      "cell_type": "markdown",
      "source": [
        "We see that our prediction for c_m at $x = c/4$ does not agree closely with experimental data even in the linear regime for small angle of attack. This is due to contribution of thickness being ignored and due to the fact that the aerodynamic centre shifts in actuality as opposed to being fixed at $x = c/4$"
      ],
      "metadata": {
        "id": "H7OII3ElWUmN"
      }
    },
    {
      "cell_type": "markdown",
      "source": [
        "d) Plot comparison between $c_{p}$ distribution with experimental data:"
      ],
      "metadata": {
        "id": "CqZpjwlrQUYu"
      }
    },
    {
      "cell_type": "code",
      "source": [
        "airfoil_C = Thin_airfoilsoln(\"2412\")\n",
        "c_l, c_m_c4, cp_l, cp_u = airfoil_C.calculate(alpha=8, flag = 1)\n",
        "\n"
      ],
      "metadata": {
        "colab": {
          "base_uri": "https://localhost:8080/",
          "height": 295
        },
        "id": "7RHzrDcrQjko",
        "outputId": "fb878765-1a5d-4258-b7e6-8e27a32772cd"
      },
      "execution_count": 39,
      "outputs": [
        {
          "output_type": "display_data",
          "data": {
            "text/plain": [
              "<Figure size 432x288 with 1 Axes>"
            ],
            "image/png": "[encoded data removed]"
          },
          "metadata": {
            "needs_background": "light"
          }
        }
      ]
    },
    {
      "cell_type": "markdown",
      "source": [
        "I could not obtain experimental data."
      ],
      "metadata": {
        "id": "sStaECtEXGGJ"
      }
    }
  ]
}